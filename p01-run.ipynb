{
 "cells": [
  {
   "cell_type": "code",
   "execution_count": 10,
   "id": "isolated-photograph",
   "metadata": {},
   "outputs": [
    {
     "name": "stdout",
     "output_type": "stream",
     "text": [
      "Initial Impurity:  0.49586776859504134\n",
      "Impurity of first-six (all True):  0.0\n",
      "\n",
      "splitting at -1.0 gives us impurity 0.5\n",
      "splitting at 3.0 gives us impurity 0.49382716049382713\n",
      "splitting at 8.0 gives us impurity 0.46875\n",
      "splitting at 10.5 gives us impurity 0.40816326530612246\n",
      "splitting at 19.5 gives us impurity 0.2777777777777778\n",
      "splitting at 31.0 gives us impurity 0.0\n",
      "splitting at 39.5 gives us impurity 0.24489795918367355\n",
      "splitting at 52.5 gives us impurity 0.375\n",
      "splitting at 68.0 gives us impurity 0.4444444444444445\n",
      "splitting at 87.3 gives us impurity 0.48\n"
     ]
    }
   ],
   "source": [
    "%run \"p01-feature-splits.py\""
   ]
  },
  {
   "cell_type": "code",
   "execution_count": 4,
   "id": "civil-extent",
   "metadata": {},
   "outputs": [],
   "source": [
    "from dataclasses import dataclass\n",
    "\n",
    "# My python file (very limited for now, but we will build up shared functions)\n",
    "from shared import TODO\n",
    "\n",
    "\n",
    "# Let's define a really simple class with two fields:\n",
    "@dataclass\n",
    "class DataPoint:\n",
    "    temperature: float\n",
    "    frozen: bool\n",
    "\n",
    "\n",
    "data = [\n",
    "    # vermont temperatures; frozen=True\n",
    "    DataPoint(0, True),\n",
    "    DataPoint(-2, True),\n",
    "    DataPoint(10, True),\n",
    "    DataPoint(11, True),\n",
    "    DataPoint(6, True),\n",
    "    DataPoint(28, True),\n",
    "    # warm temperatures; frozen=False\n",
    "    DataPoint(45, False),\n",
    "    DataPoint(76, False),\n",
    "    DataPoint(60, False),\n",
    "    DataPoint(34, False),\n",
    "    DataPoint(98.6, False),\n",
    "]\n"
   ]
  },
  {
   "cell_type": "code",
   "execution_count": 5,
   "id": "cardiac-reform",
   "metadata": {},
   "outputs": [],
   "source": [
    "data = sorted(data, key=lambda obj: obj.temperature)"
   ]
  },
  {
   "cell_type": "code",
   "execution_count": 6,
   "id": "partial-interval",
   "metadata": {},
   "outputs": [
    {
     "data": {
      "text/plain": [
       "[DataPoint(temperature=-2, frozen=True),\n",
       " DataPoint(temperature=0, frozen=True),\n",
       " DataPoint(temperature=6, frozen=True),\n",
       " DataPoint(temperature=10, frozen=True),\n",
       " DataPoint(temperature=11, frozen=True),\n",
       " DataPoint(temperature=28, frozen=True),\n",
       " DataPoint(temperature=34, frozen=False),\n",
       " DataPoint(temperature=45, frozen=False),\n",
       " DataPoint(temperature=60, frozen=False),\n",
       " DataPoint(temperature=76, frozen=False),\n",
       " DataPoint(temperature=98.6, frozen=False)]"
      ]
     },
     "execution_count": 6,
     "metadata": {},
     "output_type": "execute_result"
    }
   ],
   "source": [
    "data"
   ]
  },
  {
   "cell_type": "code",
   "execution_count": null,
   "id": "vertical-manchester",
   "metadata": {},
   "outputs": [],
   "source": []
  }
 ],
 "metadata": {
  "kernelspec": {
   "display_name": "Python 3",
   "language": "python",
   "name": "python3"
  },
  "language_info": {
   "codemirror_mode": {
    "name": "ipython",
    "version": 3
   },
   "file_extension": ".py",
   "mimetype": "text/x-python",
   "name": "python",
   "nbconvert_exporter": "python",
   "pygments_lexer": "ipython3",
   "version": "3.8.7"
  }
 },
 "nbformat": 4,
 "nbformat_minor": 5
}
