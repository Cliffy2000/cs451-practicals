{
 "cells": [
  {
   "cell_type": "code",
   "execution_count": 1,
   "id": "returning-briefs",
   "metadata": {},
   "outputs": [],
   "source": [
    "\n",
    "import random\n",
    "import matplotlib.pyplot as plt\n",
    "import pandas as pd\n",
    "import numpy as np\n",
    "import typing as T\n",
    "import re\n",
    "import numpy as np\n",
    "from dataclasses import dataclass\n",
    "\n",
    "from shared import bootstrap_accuracy, bootstrap_auc, dataset_local_path, simple_boxplot\n",
    "\n",
    "RAND = 123456\n",
    "random.seed(RAND)\n",
    "\n",
    "# Using 'pandas' to load data now:\n",
    "df: pd.DataFrame = pd.read_json(\n",
    "    dataset_local_path(\"lit-wiki-2020.jsonl.gz\"), lines=True\n",
    ")"
   ]
  },
  {
   "cell_type": "code",
   "execution_count": 29,
   "id": "standing-pendant",
   "metadata": {},
   "outputs": [],
   "source": [
    "# Regular expresssions to grab parts of the text:\n",
    "WORDS = re.compile(r\"(\\w+)\")\n",
    "NUMBERS = re.compile(r\"(\\d+)\")\n",
    "\n",
    "\n",
    "def extract_features(row):\n",
    "    \"\"\"\n",
    "    Given the title and body of a Wikipedia article,\n",
    "    extract features that might be of use to the 'is literary' task.\n",
    "\n",
    "    Return named features in a dictionary.\n",
    "    \"\"\"\n",
    "    title = row[\"title\"].lower()\n",
    "    body = row[\"body\"]\n",
    "\n",
    "    new_features: T.Dict[str, T.Any] = {}\n",
    "    words = WORDS.findall(body)\n",
    "    numbers = [int(x) for x in NUMBERS.findall(body)]\n",
    "\n",
    "    new_features = {\n",
    "        \"disambig\": \"disambiguation\" in title,\n",
    "        \"page_rank\": row[\"page_rank\"],\n",
    "        \"length\": len(words),\n",
    "        # \"18xx\": sum(1 for x in numbers if 1800 < x <= 1900),\n",
    "        \"list_of\": title.startswith('list of'),\n",
    "    }\n",
    "    if len(numbers) > 0:\n",
    "        new_features[\"mean_n\"] = np.mean(numbers)\n",
    "        new_features[\"std_n\"] = np.std(numbers)\n",
    "\n",
    "    return new_features\n",
    "\n",
    "\n",
    "# right now each entry of the dataframe is a dictionary; json_normalize flattenst hat for us.\n",
    "designed_f = pd.json_normalize(df.apply(extract_features, axis=\"columns\"))"
   ]
  },
  {
   "cell_type": "code",
   "execution_count": 30,
   "id": "proof-poverty",
   "metadata": {},
   "outputs": [
    {
     "name": "stdout",
     "output_type": "stream",
     "text": [
      "disambig          False\n",
      "page_rank           0.0\n",
      "length             2848\n",
      "list_of            True\n",
      "mean_n        51.912088\n",
      "std_n        292.915494\n",
      "Name: 11, dtype: object\n"
     ]
    }
   ],
   "source": [
    "print(designed_f.loc[11])"
   ]
  },
  {
   "cell_type": "code",
   "execution_count": 12,
   "id": "artistic-implement",
   "metadata": {},
   "outputs": [
    {
     "name": "stdout",
     "output_type": "stream",
     "text": [
      "11\n",
      "65\n",
      "255\n",
      "290\n",
      "316\n",
      "325\n",
      "345\n",
      "353\n",
      "515\n",
      "550\n",
      "628\n",
      "647\n",
      "665\n",
      "692\n",
      "790\n",
      "897\n",
      "901\n",
      "1111\n",
      "1116\n",
      "1138\n",
      "1180\n",
      "1257\n",
      "1324\n",
      "1379\n",
      "1442\n",
      "1478\n",
      "1525\n",
      "1543\n",
      "1558\n",
      "1567\n",
      "1595\n",
      "1677\n",
      "1708\n",
      "1743\n",
      "1761\n",
      "1806\n",
      "1857\n"
     ]
    }
   ],
   "source": [
    "for i in range(len(df['title'])):\n",
    "    if 'List of' in df['title'][i]:\n",
    "        print(i)"
   ]
  },
  {
   "cell_type": "code",
   "execution_count": null,
   "id": "aboriginal-burning",
   "metadata": {},
   "outputs": [],
   "source": []
  }
 ],
 "metadata": {
  "kernelspec": {
   "display_name": "Python 3",
   "language": "python",
   "name": "python3"
  },
  "language_info": {
   "codemirror_mode": {
    "name": "ipython",
    "version": 3
   },
   "file_extension": ".py",
   "mimetype": "text/x-python",
   "name": "python",
   "nbconvert_exporter": "python",
   "pygments_lexer": "ipython3",
   "version": "3.8.7"
  }
 },
 "nbformat": 4,
 "nbformat_minor": 5
}
