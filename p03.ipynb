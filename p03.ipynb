{
 "cells": [
  {
   "cell_type": "code",
   "execution_count": 7,
   "id": "diverse-genre",
   "metadata": {},
   "outputs": [],
   "source": [
    "import json\n",
    "from dataclasses import dataclass\n",
    "from typing import Any, Dict, List\n",
    "\n",
    "import numpy as np\n",
    "import matplotlib.pyplot as plt\n",
    "from sklearn.utils import resample\n",
    "from sklearn.metrics import accuracy_score\n",
    "from sklearn.linear_model import Perceptron\n",
    "from sklearn.tree import DecisionTreeClassifier\n",
    "from sklearn.model_selection import train_test_split\n",
    "from sklearn.feature_extraction import DictVectorizer\n",
    "\n",
    "from shared import dataset_local_path, TODO"
   ]
  },
  {
   "cell_type": "code",
   "execution_count": 38,
   "id": "eligible-arthritis",
   "metadata": {},
   "outputs": [],
   "source": [
    "examples = []\n",
    "ys = []\n",
    "\n",
    "with open(dataset_local_path(\"poetry_id.jsonl\")) as fp:\n",
    "    for line in fp:\n",
    "        info = json.loads(line)\n",
    "        # Note: the data contains a whole bunch of extra stuff; we just want numeric features for now.\n",
    "        keep = info[\"features\"]\n",
    "        # whether or not it's poetry is our label.\n",
    "        ys.append(info[\"poetry\"])\n",
    "        # hold onto this single dictionary.\n",
    "        examples.append(keep)"
   ]
  },
  {
   "cell_type": "code",
   "execution_count": 40,
   "id": "accompanied-turkey",
   "metadata": {},
   "outputs": [
    {
     "name": "stdout",
     "output_type": "stream",
     "text": [
      "Features as (2772, 38) matrix.\n"
     ]
    }
   ],
   "source": [
    "feature_numbering = DictVectorizer(sort=True)\n",
    "feature_numbering.fit(examples)\n",
    "X = feature_numbering.transform(examples)\n",
    "# The above two lines is the same as \n",
    "# X = feature_numbering.fit_transform(examples)\n",
    "\n",
    "print(\"Features as {} matrix.\".format(X.shape))"
   ]
  },
  {
   "cell_type": "code",
   "execution_count": 71,
   "id": "lucky-growth",
   "metadata": {},
   "outputs": [],
   "source": [
    "RANDOM_SEED = 999999"
   ]
  },
  {
   "cell_type": "code",
   "execution_count": 67,
   "id": "devoted-brisbane",
   "metadata": {},
   "outputs": [],
   "source": [
    "y = np.array(ys)\n",
    "\n",
    "# First split the data into training and testing\n",
    "X_tv, X_test, y_tv, y_test = train_test_split(\n",
    "    X, y, train_size=0.75, shuffle=True, random_state=RANDOM_SEED\n",
    ")\n",
    "# Then split the training data into training and validations\n",
    "X_train, X_vali, y_train, y_vali = train_test_split(\n",
    "    X_tv, y_tv, train_size=0.66, shuffle=True, random_state=RANDOM_SEED\n",
    ")"
   ]
  },
  {
   "cell_type": "code",
   "execution_count": 69,
   "id": "signed-diagram",
   "metadata": {},
   "outputs": [],
   "source": [
    "# Decision tree parameters\n",
    "params = {\n",
    "    \"criterion\": \"gini\",\n",
    "    \"splitter\": \"best\",\n",
    "    \"max_depth\": 5,\n",
    "}"
   ]
  },
  {
   "cell_type": "code",
   "execution_count": 70,
   "id": "anticipated-survey",
   "metadata": {},
   "outputs": [],
   "source": [
    "# Number of traning with different models for each one\n",
    "N_MODELS = 100\n",
    "# Number of sampling done for one of the models\n",
    "N_SAMPLES = 100"
   ]
  },
  {
   "cell_type": "code",
   "execution_count": 78,
   "id": "removable-finish",
   "metadata": {},
   "outputs": [],
   "source": [
    "seed_based_accuracies = []\n",
    "for randomness in range(N_MODELS):\n",
    "    # ** unpacks a dictionary into the input of a function call\n",
    "    f_seed = DecisionTreeClassifier(random_state = RANDOM_SEED + randomness, **params)\n",
    "    f_seed.fit(X_train, y_train)\n",
    "    seed_based_accuracies.append(f_seed.score(X_vali, y_vali))"
   ]
  }
 ],
 "metadata": {
  "kernelspec": {
   "display_name": "Python 3",
   "language": "python",
   "name": "python3"
  },
  "language_info": {
   "codemirror_mode": {
    "name": "ipython",
    "version": 3
   },
   "file_extension": ".py",
   "mimetype": "text/x-python",
   "name": "python",
   "nbconvert_exporter": "python",
   "pygments_lexer": "ipython3",
   "version": "3.8.7"
  }
 },
 "nbformat": 4,
 "nbformat_minor": 5
}
