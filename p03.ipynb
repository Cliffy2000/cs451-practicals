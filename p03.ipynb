{
 "cells": [
  {
   "cell_type": "code",
   "execution_count": 2,
   "id": "european-mystery",
   "metadata": {},
   "outputs": [],
   "source": [
    "import json\n",
    "from dataclasses import dataclass\n",
    "from typing import Any, Dict, List\n",
    "\n",
    "import numpy as np\n",
    "import matplotlib.pyplot as plt\n",
    "from sklearn.utils import resample\n",
    "from sklearn.metrics import accuracy_score\n",
    "from sklearn.linear_model import Perceptron\n",
    "from sklearn.tree import DecisionTreeClassifier\n",
    "from sklearn.model_selection import train_test_split\n",
    "from sklearn.feature_extraction import DictVectorizer\n",
    "\n",
    "from shared import dataset_local_path, TODO"
   ]
  },
  {
   "cell_type": "code",
   "execution_count": 3,
   "id": "verified-strand",
   "metadata": {},
   "outputs": [],
   "source": [
    "examples = []\n",
    "ys = []\n",
    "\n",
    "with open(dataset_local_path(\"poetry_id.jsonl\")) as fp:\n",
    "    for line in fp:\n",
    "        info = json.loads(line)\n",
    "        # Note: the data contains a whole bunch of extra stuff; we just want numeric features for now.\n",
    "        keep = info[\"features\"]\n",
    "        # whether or not it's poetry is our label.\n",
    "        ys.append(info[\"poetry\"])\n",
    "        # hold onto this single dictionary.\n",
    "        examples.append(keep)"
   ]
  },
  {
   "cell_type": "code",
   "execution_count": 4,
   "id": "friendly-lighter",
   "metadata": {},
   "outputs": [
    {
     "name": "stdout",
     "output_type": "stream",
     "text": [
      "Features as (2772, 38) matrix.\n"
     ]
    }
   ],
   "source": [
    "feature_numbering = DictVectorizer(sort=True)\n",
    "feature_numbering.fit(examples)\n",
    "X = feature_numbering.transform(examples)\n",
    "# The above two lines is the same as \n",
    "# X = feature_numbering.fit_transform(examples)\n",
    "\n",
    "print(\"Features as {} matrix.\".format(X.shape))"
   ]
  },
  {
   "cell_type": "code",
   "execution_count": 5,
   "id": "proper-field",
   "metadata": {},
   "outputs": [],
   "source": [
    "RANDOM_SEED = 999999"
   ]
  },
  {
   "cell_type": "code",
   "execution_count": 6,
   "id": "based-neutral",
   "metadata": {},
   "outputs": [],
   "source": [
    "y = np.array(ys)\n",
    "\n",
    "# First split the data into training and testing\n",
    "X_tv, X_test, y_tv, y_test = train_test_split(\n",
    "    X, y, train_size=0.75, shuffle=True, random_state=RANDOM_SEED\n",
    ")\n",
    "# Then split the training data into training and validations\n",
    "X_train, X_vali, y_train, y_vali = train_test_split(\n",
    "    X_tv, y_tv, train_size=0.66, shuffle=True, random_state=RANDOM_SEED\n",
    ")"
   ]
  },
  {
   "cell_type": "code",
   "execution_count": 7,
   "id": "treated-finder",
   "metadata": {},
   "outputs": [],
   "source": [
    "# Decision tree parameters\n",
    "params = {\n",
    "    \"criterion\": \"gini\",\n",
    "    \"splitter\": \"best\",\n",
    "    \"max_depth\": 5,\n",
    "}"
   ]
  },
  {
   "cell_type": "code",
   "execution_count": 28,
   "id": "separated-allowance",
   "metadata": {},
   "outputs": [],
   "source": [
    "# Number of traning with different models for each one\n",
    "N_MODELS = 100\n",
    "# Number of sampling done for one of the models\n",
    "N_SAMPLES = 100"
   ]
  },
  {
   "cell_type": "code",
   "execution_count": 29,
   "id": "indonesian-flush",
   "metadata": {},
   "outputs": [],
   "source": [
    "seed_based_accuracies = []\n",
    "for randomness in range(N_MODELS):\n",
    "    # ** unpacks a dictionary into the input of a function call\n",
    "    f_seed = DecisionTreeClassifier(random_state = RANDOM_SEED + randomness, **params)\n",
    "    f_seed.fit(X_train, y_train)\n",
    "    seed_based_accuracies.append(f_seed.score(X_vali, y_vali))"
   ]
  },
  {
   "cell_type": "code",
   "execution_count": 30,
   "id": "regular-victory",
   "metadata": {},
   "outputs": [],
   "source": [
    "bootstrap_based_accuracies = []\n",
    "f_single = DecisionTreeClassifier(random_state = RANDOM_SEED, **params)\n",
    "f_single.fit(X_train, y_train)\n",
    "y_pred = f_single.predict(X_vali)"
   ]
  },
  {
   "cell_type": "code",
   "execution_count": 31,
   "id": "cutting-scene",
   "metadata": {},
   "outputs": [],
   "source": [
    "for trial in range(N_SAMPLES):\n",
    "    sample_pred, sample_truth = resample(y_pred, y_vali, random_state = RANDOM_SEED+trial)\n",
    "    score = accuracy_score(y_true=sample_truth, y_pred=sample_pred)\n",
    "    bootstrap_based_accuracies.append(score)"
   ]
  },
  {
   "cell_type": "code",
   "execution_count": 32,
   "id": "minus-marketplace",
   "metadata": {
    "tags": []
   },
   "outputs": [
    {
     "data": {
      "image/png": "[encoded data removed]",
      "text/plain": [
       "<Figure size 432x288 with 1 Axes>"
      ]
     },
     "metadata": {
      "needs_background": "light"
     },
     "output_type": "display_data"
    }
   ],
   "source": [
    "boxplot_data = [seed_based_accuracies, bootstrap_based_accuracies]\n",
    "plt.boxplot(boxplot_data)\n",
    "plt.xticks(ticks=[1, 2], labels=[\"Seed-Based\", \"Bootstrap-Based\"])\n",
    "plt.xlabel(\"Sampling Method\")\n",
    "plt.ylabel(\"Accuracy\")\n",
    "plt.ylim([0.8, 1.0])\n",
    "plt.show()"
   ]
  },
  {
   "cell_type": "markdown",
   "id": "adult-leadership",
   "metadata": {},
   "source": [
    "1. The bounds created by the seed based approach represents the range of accuracy scores of the \n",
    "    entire models. While the bounds created by the booystrap approach shows the distribution of the\n",
    "    data within a model and demonstrates the range of accuracy scores of subsets of the model.\n",
    "    \n",
    "2. a) Since the variance in the seed based approach is rather small, we cn infer that the diffrence \n",
    "    between the data of the models are not large, which suggests that the overall variance is close \n",
    "    to that of one model with K samples"
   ]
  },
  {
   "cell_type": "code",
   "execution_count": null,
   "id": "aware-wallace",
   "metadata": {},
   "outputs": [],
   "source": []
  }
 ],
 "metadata": {
  "kernelspec": {
   "display_name": "Python 3",
   "language": "python",
   "name": "python3"
  },
  "language_info": {
   "codemirror_mode": {
    "name": "ipython",
    "version": 3
   },
   "file_extension": ".py",
   "mimetype": "text/x-python",
   "name": "python",
   "nbconvert_exporter": "python",
   "pygments_lexer": "ipython3",
   "version": "3.8.7"
  }
 },
 "nbformat": 4,
 "nbformat_minor": 5
}
