{
 "cells": [
  {
   "cell_type": "markdown",
   "id": "instructional-nashville",
   "metadata": {},
   "source": [
    "# Quick Draw Project Data Processing"
   ]
  },
  {
   "cell_type": "code",
   "execution_count": 3,
   "id": "measured-cigarette",
   "metadata": {},
   "outputs": [],
   "source": [
    "import os\n",
    "import csv\n",
    "import time\n",
    "import json\n",
    "import gzip\n",
    "\n",
    "import numpy as np\n",
    "import pandas as pd\n",
    "import matplotlib.pyplot as plt\n",
    "\n",
    "from tqdm import tqdm"
   ]
  },
  {
   "cell_type": "code",
   "execution_count": 4,
   "id": "spread-honolulu",
   "metadata": {
    "scrolled": true,
    "tags": []
   },
   "outputs": [],
   "source": [
    "# Retrieve all the csv file names\n",
    "data_path = './data/'\n",
    "training_path = './data/train_simplified/'\n",
    "training_files = []\n",
    "for path in os.listdir(training_path):\n",
    "    if path.endswith('.csv'):\n",
    "        training_files.append(path)"
   ]
  },
  {
   "cell_type": "code",
   "execution_count": 5,
   "id": "verified-shareware",
   "metadata": {
    "scrolled": true,
    "tags": []
   },
   "outputs": [],
   "source": [
    "def load_image_csv(file):\n",
    "    \"\"\"\n",
    "    Reads a specific image csv file from the file name.\n",
    "    Uses Python built-in csv library with no dependencies.\n",
    "    \n",
    "    file: file name with full directory\n",
    "    \n",
    "    returns: full list of lists with all the data from the csv file\n",
    "    \"\"\"\n",
    "    result = []\n",
    "    with open(file) as csvfile:\n",
    "        current = csv.reader(csvfile)\n",
    "        for row in current:\n",
    "            result.append(row)\n",
    "    \n",
    "    return result"
   ]
  },
  {
   "cell_type": "code",
   "execution_count": 6,
   "id": "welsh-interface",
   "metadata": {},
   "outputs": [],
   "source": [
    "def load_data(quant):\n",
    "    \"\"\"\n",
    "    Reads in all the data directly from the csv files. \n",
    "    \n",
    "    quant: indicates the amount of data going to be stored and returned\n",
    "            0 ~ 1 would be the proportion of data\n",
    "            >= 1 would be the number of rows from each file\n",
    "            \n",
    "    returns: dictionary of {word: stroke_list}\n",
    "    \"\"\"\n",
    "    \n",
    "    all_images = {}\n",
    "\n",
    "    for file in tqdm(training_files):\n",
    "        name = file.split('.')[0]\n",
    "        current = pd.read_csv(training_path + file)\n",
    "        \n",
    "        if quant >= 1:\n",
    "            count = quant\n",
    "        else:\n",
    "            count = int(len(current) * quant)\n",
    "            \n",
    "        current = current[:count]\n",
    "        current = current.values.tolist()\n",
    "        all_images[name] = current\n",
    "    \n",
    "    return all_images"
   ]
  },
  {
   "cell_type": "code",
   "execution_count": 7,
   "id": "fallen-baptist",
   "metadata": {},
   "outputs": [],
   "source": [
    "# Stores data in Json file. 10 percent of training data would be around 2.5GB. \n",
    "def json_store(file, data):\n",
    "    with open(file, 'w') as f:\n",
    "        json.dump(data, f)\n",
    "\n",
    "# Loads data from Json file. \n",
    "def json_load(file):\n",
    "    with open(file, 'r') as f:\n",
    "        result = json.load(f)\n",
    "    return result"
   ]
  },
  {
   "cell_type": "code",
   "execution_count": 8,
   "id": "tested-ridge",
   "metadata": {},
   "outputs": [],
   "source": [
    "def show_image(strokes):\n",
    "    \"\"\"\n",
    "    Takes the list of strokes as input and shows the image with matplotlib\n",
    "    \"\"\"\n",
    "    point_sets = []\n",
    "    \n",
    "    # Separate the strokes and stores the points in different arrays\n",
    "    for stroke in strokes:\n",
    "        current = []\n",
    "        for x,y in zip(stroke[0], stroke[1]):\n",
    "            current.append([x,255-y])  # Subtracting from 255 as images appear to be inverted\n",
    "        current = np.array(current)\n",
    "        point_sets.append(current)\n",
    "    \n",
    "    # Shows the image on a canvas with size 256*256\n",
    "    # The fixed size is to regulate the shown image\n",
    "    plt.plot([0,0,255,255,0], [0,255,255,0,0], '#999999')  # Grey border\n",
    "    for group in point_sets:\n",
    "        plt.plot(group[:,0], group[:,1], 'k-')  # Each stroke\n",
    "    plt.xlim((0, 255))\n",
    "    plt.ylim((0, 255))\n",
    "    plt.axis('scaled')\n",
    "    plt.axis('off')\n",
    "    plt.show()\n"
   ]
  },
  {
   "cell_type": "code",
   "execution_count": 53,
   "id": "external-latter",
   "metadata": {},
   "outputs": [
    {
     "name": "stdin",
     "output_type": "stream",
     "text": [
      "y to confirm load \n"
     ]
    }
   ],
   "source": [
    "# Loads 1000 rows from each file. \n",
    "if input('y to confirm load') == 'y':\n",
    "    data_1000 = load_data(1000)\n",
    "    json_store(data_path + 'data_1000.json', data_1000)"
   ]
  },
  {
   "cell_type": "code",
   "execution_count": 9,
   "id": "posted-scheme",
   "metadata": {},
   "outputs": [],
   "source": [
    "data_1000 = json_load(data_path + 'data_1000.json')"
   ]
  },
  {
   "cell_type": "code",
   "execution_count": 8,
   "id": "successful-seminar",
   "metadata": {},
   "outputs": [
    {
     "data": {
      "image/png": "[encoded data removed]",
      "text/plain": [
       "<Figure size 432x288 with 1 Axes>"
      ]
     },
     "metadata": {
      "needs_background": "light"
     },
     "output_type": "display_data"
    }
   ],
   "source": [
    "sample_image = data_1000['airplane'][1][1]\n",
    "sample_image = eval(sample_image)\n",
    "show_image(sample_image)"
   ]
  },
  {
   "cell_type": "code",
   "execution_count": 25,
   "id": "residential-arkansas",
   "metadata": {},
   "outputs": [
    {
     "ename": "TypeError",
     "evalue": "a bytes-like object is required, not 'str'",
     "output_type": "error",
     "traceback": [
      "\u001b[1;31m---------------------------------------------------------------------------\u001b[0m",
      "\u001b[1;31mTypeError\u001b[0m                                 Traceback (most recent call last)",
      "\u001b[1;32m<ipython-input-25-16feab3e8ae1>\u001b[0m in \u001b[0;36m<module>\u001b[1;34m\u001b[0m\n\u001b[0;32m      7\u001b[0m             \u001b[0msketch\u001b[0m \u001b[1;33m=\u001b[0m \u001b[0mitem\u001b[0m\u001b[1;33m[\u001b[0m\u001b[1;36m1\u001b[0m\u001b[1;33m]\u001b[0m\u001b[1;33m\u001b[0m\u001b[1;33m\u001b[0m\u001b[0m\n\u001b[0;32m      8\u001b[0m             \u001b[0mbinary\u001b[0m \u001b[1;33m=\u001b[0m \u001b[1;34m''\u001b[0m\u001b[1;33m.\u001b[0m\u001b[0mjoin\u001b[0m\u001b[1;33m(\u001b[0m\u001b[0mformat\u001b[0m\u001b[1;33m(\u001b[0m\u001b[0mi\u001b[0m\u001b[1;33m,\u001b[0m \u001b[1;34m'08b'\u001b[0m\u001b[1;33m)\u001b[0m \u001b[1;32mfor\u001b[0m \u001b[0mi\u001b[0m \u001b[1;32min\u001b[0m \u001b[0mbytearray\u001b[0m\u001b[1;33m(\u001b[0m\u001b[0mx\u001b[0m\u001b[1;33m+\u001b[0m\u001b[0msketch\u001b[0m\u001b[1;33m,\u001b[0m \u001b[0mencoding\u001b[0m \u001b[1;33m=\u001b[0m\u001b[1;34m'utf-8'\u001b[0m\u001b[1;33m)\u001b[0m\u001b[1;33m)\u001b[0m\u001b[1;33m\u001b[0m\u001b[1;33m\u001b[0m\u001b[0m\n\u001b[1;32m----> 9\u001b[1;33m             \u001b[0mf\u001b[0m\u001b[1;33m.\u001b[0m\u001b[0mwrite\u001b[0m\u001b[1;33m(\u001b[0m\u001b[0mbinary\u001b[0m\u001b[1;33m)\u001b[0m\u001b[1;33m\u001b[0m\u001b[1;33m\u001b[0m\u001b[0m\n\u001b[0m\u001b[0;32m     10\u001b[0m             \u001b[0mcount\u001b[0m \u001b[1;33m+=\u001b[0m \u001b[1;36m1\u001b[0m\u001b[1;33m\u001b[0m\u001b[1;33m\u001b[0m\u001b[0m\n",
      "\u001b[1;31mTypeError\u001b[0m: a bytes-like object is required, not 'str'"
     ]
    }
   ],
   "source": [
    "with open('./data/test_1000.gz', 'wb') as f:\n",
    "    for x in data_1000.keys():\n",
    "        count = 0\n",
    "        for item in data_1000[x]:\n",
    "            if count > 10:\n",
    "                continue\n",
    "            sketch = item[1]\n",
    "            binary = ''.join(format(i, '08b') for i in bytearray(x+sketch, encoding ='utf-8'))\n",
    "            f.write(binary)\n",
    "            count += 1"
   ]
  },
  {
   "cell_type": "code",
   "execution_count": 21,
   "id": "younger-following",
   "metadata": {},
   "outputs": [],
   "source": [
    "s = data_1000['airplane'][0][1]"
   ]
  },
  {
   "cell_type": "code",
   "execution_count": 22,
   "id": "adopted-river",
   "metadata": {},
   "outputs": [],
   "source": [
    "res = ''.join(format(i, '08b') for i in bytearray(s, encoding ='utf-8'))"
   ]
  },
  {
   "cell_type": "code",
   "execution_count": null,
   "id": "controlling-warning",
   "metadata": {},
   "outputs": [],
   "source": [
    "print(b('a'))"
   ]
  },
  {
   "cell_type": "code",
   "execution_count": null,
   "id": "pointed-tobacco",
   "metadata": {},
   "outputs": [],
   "source": []
  }
 ],
 "metadata": {
  "kernelspec": {
   "display_name": "Python 3",
   "language": "python",
   "name": "python3"
  },
  "language_info": {
   "codemirror_mode": {
    "name": "ipython",
    "version": 3
   },
   "file_extension": ".py",
   "mimetype": "text/x-python",
   "name": "python",
   "nbconvert_exporter": "python",
   "pygments_lexer": "ipython3",
   "version": "3.8.7"
  }
 },
 "nbformat": 4,
 "nbformat_minor": 5
}
