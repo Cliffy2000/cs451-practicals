{
 "cells": [
  {
   "cell_type": "code",
   "execution_count": 1,
   "id": "fantastic-harvey",
   "metadata": {},
   "outputs": [
    {
     "name": "stdout",
     "output_type": "stream",
     "text": [
      "(7578, 12) (843, 12)\n",
      "0.5825444101604599\n"
     ]
    }
   ],
   "source": [
    "%run \"p08-regress-and-knn.py\""
   ]
  },
  {
   "cell_type": "code",
   "execution_count": null,
   "id": "subject-compound",
   "metadata": {},
   "outputs": [],
   "source": []
  },
  {
   "cell_type": "code",
   "execution_count": 2,
   "id": "alpha-croatia",
   "metadata": {},
   "outputs": [],
   "source": [
    "from sklearn.model_selection import train_test_split\n",
    "from sklearn.feature_extraction import DictVectorizer\n",
    "import numpy as np\n",
    "from scipy.spatial.distance import euclidean\n",
    "from typing import List, Tuple\n",
    "from tqdm import tqdm\n",
    "\n",
    "import csv\n",
    "\n",
    "from shared import dataset_local_path"
   ]
  },
  {
   "cell_type": "code",
   "execution_count": null,
   "id": "higher-campaign",
   "metadata": {},
   "outputs": [],
   "source": []
  },
  {
   "cell_type": "code",
   "execution_count": 3,
   "id": "overhead-forwarding",
   "metadata": {},
   "outputs": [],
   "source": [
    "ys = []\n",
    "examples = []\n",
    "\n",
    "with open(dataset_local_path(\"AirQualityUCI.csv\")) as fp:\n",
    "    # This is a CSV file where the separators are not commas!\n",
    "    rows = csv.reader(fp, delimiter=\";\")\n",
    "    header = next(rows)\n",
    "    for row in rows:\n",
    "        datapoint = {}\n",
    "        # {'Date': '10/03/2004', 'Time': '18.00.00',\n",
    "        #  'CO(GT)': '2,6', 'PT08.S1(CO)': '1360', 'NMHC(GT)': '150', 'C6H6(GT)': '11,9',\n",
    "        #  'PT08.S2(NMHC)': '1046', 'NOx(GT)': '166', 'PT08.S3(NOx)': '1056',\n",
    "        #  'NO2(GT)': '113', 'PT08.S4(NO2)': '1692', 'PT08.S5(O3)': '1268',\n",
    "        #  'T': '13,6', 'RH': '48,9', 'AH': '0,7578', '': ''}\n",
    "        date = None\n",
    "        time = None\n",
    "        for (column_name, column_value) in zip(header, row):\n",
    "            if column_value == \"\" or column_name == \"\":\n",
    "                continue\n",
    "            elif column_name == \"Date\":\n",
    "                date = column_value\n",
    "            elif column_name == \"Time\":\n",
    "                time = column_value\n",
    "            else:\n",
    "                datapoint[column_name] = float(column_value.replace(\",\", \".\"))\n",
    "        if not datapoint:\n",
    "            continue\n",
    "        target = datapoint[\"CO(GT)\"]\n",
    "        del datapoint[\"CO(GT)\"]\n",
    "        ys.append(target)\n",
    "        examples.append(datapoint)\n",
    "\n",
    "#%% Split data: (note 90% of 90% to make vali/test smaller)\n",
    "\n",
    "RANDOM_SEED = 1234\n",
    "\n",
    "## split off train/validate (tv) pieces.\n",
    "ex_tv, ex_test, y_tv, y_test = train_test_split(\n",
    "    examples,\n",
    "    ys,\n",
    "    train_size=0.9,\n",
    "    shuffle=True,\n",
    "    random_state=RANDOM_SEED,\n",
    ")\n",
    "# split off train, validate from (tv) pieces.\n",
    "ex_train, ex_vali, y_train, y_vali = train_test_split(\n",
    "    ex_tv, y_tv, train_size=0.9, shuffle=True, random_state=RANDOM_SEED\n",
    ")"
   ]
  },
  {
   "cell_type": "code",
   "execution_count": null,
   "id": "theoretical-emerald",
   "metadata": {},
   "outputs": [],
   "source": []
  },
  {
   "cell_type": "code",
   "execution_count": 14,
   "id": "equal-recorder",
   "metadata": {},
   "outputs": [
    {
     "name": "stdout",
     "output_type": "stream",
     "text": [
      "(7578, 12) (843, 12)\n",
      "0.5825444101604599\n",
      "0.27315622612736634\n",
      "0.44842345480407264\n",
      "0.49759076218602005\n"
     ]
    },
    {
     "name": "stderr",
     "output_type": "stream",
     "text": [
      "c:\\users\\cliff\\appdata\\local\\programs\\python\\python38\\lib\\site-packages\\sklearn\\neural_network\\_multilayer_perceptron.py:614: ConvergenceWarning: Stochastic Optimizer: Maximum iterations (200) reached and the optimization hasn't converged yet.\n",
      "  warnings.warn(\n"
     ]
    }
   ],
   "source": [
    "#%% vectorize:\n",
    "\n",
    "from sklearn.preprocessing import StandardScaler, MinMaxScaler\n",
    "\n",
    "feature_numbering = DictVectorizer(sparse=False)\n",
    "# Learn columns from training data (again)\n",
    "feature_numbering.fit(ex_train)\n",
    "# Translate our list of texts -> matrices of counts\n",
    "rX_train = feature_numbering.transform(ex_train)\n",
    "rX_vali = feature_numbering.transform(ex_vali)\n",
    "rX_test = feature_numbering.transform(ex_test)\n",
    "\n",
    "scaling = StandardScaler()\n",
    "X_train = scaling.fit_transform(rX_train)\n",
    "X_vali = scaling.transform(rX_vali)\n",
    "X_test = scaling.transform(rX_test)\n",
    "\n",
    "print(X_train.shape, X_vali.shape)\n",
    "#%% train a model:\n",
    "from sklearn.tree import DecisionTreeRegressor\n",
    "from sklearn.linear_model import SGDRegressor\n",
    "from sklearn.neural_network import MLPRegressor\n",
    "from sklearn.neighbors import KNeighborsRegressor\n",
    "\n",
    "m = KNeighborsRegressor(n_neighbors=5, weights=\"distance\")\n",
    "m.fit(X_train, y_train)\n",
    "\n",
    "print(m.score(X_vali, y_vali))\n",
    "\n",
    "\n",
    "m1 = DecisionTreeRegressor()\n",
    "m1.fit(X_train, y_train)\n",
    "print(m1.score(X_vali, y_vali))\n",
    "\n",
    "m2 = SGDRegressor()\n",
    "m2.fit(X_train, y_train)\n",
    "print(m2.score(X_vali, y_vali))\n",
    "\n",
    "m3 = MLPRegressor()\n",
    "m3.fit(X_train, y_train)\n",
    "print(m3.score(X_vali, y_vali))"
   ]
  },
  {
   "cell_type": "code",
   "execution_count": 51,
   "id": "middle-discrimination",
   "metadata": {},
   "outputs": [],
   "source": [
    "y_pred = m.predict(X_test)\n",
    "y_test = np.array(y_test)"
   ]
  },
  {
   "cell_type": "code",
   "execution_count": 52,
   "id": "miniature-beads",
   "metadata": {},
   "outputs": [
    {
     "data": {
      "image/png": "[encoded data removed]",
      "text/plain": [
       "<Figure size 432x288 with 1 Axes>"
      ]
     },
     "metadata": {
      "needs_background": "light"
     },
     "output_type": "display_data"
    }
   ],
   "source": [
    "import matplotlib.pyplot as plt\n",
    "\n",
    "plt.axis('scaled')\n",
    "plt.xlim((-225, 25))\n",
    "plt.ylim((-225, 25))\n",
    "plt.scatter(y_pred, y_test, 12)\n",
    "plt.show()"
   ]
  },
  {
   "cell_type": "code",
   "execution_count": 70,
   "id": "satisfactory-impossible",
   "metadata": {},
   "outputs": [],
   "source": [
    "## Lab TODO:\n",
    "# Mandatory:\n",
    "# - Try some other regression models.\n",
    "# Options:\n",
    "#    - Try all the other regression models.\n",
    "#    - Research the AirQualityUCI dataset to see what the best approaches are!\n",
    "#    - Try at least one, plot a (y_pred, y_actual) scatter plot (e.g., visualize correlation / R**2)\n",
    "#    - [Difficult] see the brute-force kNN below, try to refactor the loops out of python.\n",
    "\n",
    "# %% kNN Brute Force Below:\n",
    "# Note, this is really slow (see progress bar!)\n",
    "\n",
    "\n",
    "def knn_regress(\n",
    "    X_train: np.ndarray, y_train: np.ndarray, x: np.ndarray, k: int = 3\n",
    ") -> float:\n",
    "    (num_examples, num_features) = X_train.shape\n",
    "    assert num_examples == len(y_train)\n",
    "    assert len(x) == num_features\n",
    "    assert k < num_examples\n",
    "\n",
    "    # fill in list of distances to training labels:\n",
    "    # (distance, y_value)\n",
    "    # This should be a heap, not a list, but python's heapq is annoying.\n",
    "    scored_examples: List[Tuple[float, float]] = []\n",
    "    for (i, row) in enumerate(X_train):\n",
    "        distance = euclidean(row, x)\n",
    "        scored_examples.append((distance, y_train[i]))\n",
    "\n",
    "    # find closest-k:\n",
    "    sum_y = 0.0\n",
    "    for (_distance, close_y) in sorted(scored_examples)[:k]:\n",
    "        sum_y += close_y\n",
    "    return sum_y / k\n",
    "\n",
    "def new_knn_regress(X_train, y_train, x, k=3):\n",
    "    dist = distance.cdist(x, X_train)\n",
    "    print(dist[dist.argsort([-1])])"
   ]
  },
  {
   "cell_type": "code",
   "execution_count": 12,
   "id": "later-signature",
   "metadata": {},
   "outputs": [
    {
     "name": "stderr",
     "output_type": "stream",
     "text": [
      "kNN Brute Force: 100%|███████████████████████████████████████████████████████████████| 843/843 [00:52<00:00, 15.92it/s]"
     ]
    },
    {
     "name": "stdout",
     "output_type": "stream",
     "text": [
      "Manual KNN: 0.5242985486745099\n"
     ]
    },
    {
     "name": "stderr",
     "output_type": "stream",
     "text": [
      "\n"
     ]
    }
   ],
   "source": [
    "do_slow = True\n",
    "\n",
    "from scipy.spatial import distance\n",
    "\n",
    "if do_slow:\n",
    "    # Loop over each element of validation set, and predict based on training.\n",
    "    y_vali_pred = []\n",
    "    '''\n",
    "    for row_index in tqdm(range(len(y_vali)), desc=\"kNN Brute Force\"):\n",
    "        example = X_vali[row_index, :]\n",
    "        y_vali_pred.append(knn_regress(X_train, y_train, example, k=3))\n",
    "    '''\n",
    "    \n",
    "    for x in tqdm(X_vali):\n",
    "        new_knn_regress(X_train, y_train, x)\n",
    "\n",
    "    from sklearn.metrics import r2_score\n",
    "\n",
    "    print(\"Manual KNN:\", r2_score(y_vali, y_vali_pred))\n",
    "\n",
    "    ## TODO (optional, Challenging!) (efficiency / matrix ops)\n",
    "    #\n",
    "    # Converting our Manual KNN to use scipy.spatial.distance.cdist\n",
    "    # *should* allow it to compute a matrix of distances between\n",
    "    # X_train and X_vali as 1 call to the scipy C/Fortran library.\n",
    "    #\n",
    "    # ... This may be significantly faster.\n",
    "    # ... You'll then end up here or so: https://stackoverflow.com/questions/6910641/how-do-i-get-indices-of-n-maximum-values-in-a-numpy-array\n",
    "    # ... Seriously, I find doing this stuff annoying.\n",
    "    # ... Good luck!"
   ]
  },
  {
   "cell_type": "code",
   "execution_count": 69,
   "id": "timely-furniture",
   "metadata": {},
   "outputs": [
    {
     "data": {
      "text/plain": [
       "array([5, 4, 3])"
      ]
     },
     "execution_count": 69,
     "metadata": {},
     "output_type": "execute_result"
    }
   ],
   "source": [
    "k = 3\n",
    "a = np.array([2,4,1,5,3])\n",
    "a[a.argsort()[:-k-1:-1]]"
   ]
  },
  {
   "cell_type": "code",
   "execution_count": 73,
   "id": "extensive-simulation",
   "metadata": {},
   "outputs": [
    {
     "name": "stderr",
     "output_type": "stream",
     "text": [
      "  0%|                                                                                          | 0/843 [00:00<?, ?it/s]"
     ]
    },
    {
     "name": "stdout",
     "output_type": "stream",
     "text": [
      "[ 0.20218597  0.03759481 -0.29458871 -2.03229573 -1.42871227 -0.6942399\n",
      " -0.59021085  0.6922652  -0.14100943 -0.95921162 -0.06172471  0.36850372]\n"
     ]
    },
    {
     "name": "stderr",
     "output_type": "stream",
     "text": [
      "\n"
     ]
    },
    {
     "ename": "ValueError",
     "evalue": "XA must be a 2-dimensional array.",
     "output_type": "error",
     "traceback": [
      "\u001b[1;31m---------------------------------------------------------------------------\u001b[0m",
      "\u001b[1;31mValueError\u001b[0m                                Traceback (most recent call last)",
      "\u001b[1;32m<ipython-input-73-152a65a9bfbc>\u001b[0m in \u001b[0;36m<module>\u001b[1;34m\u001b[0m\n\u001b[0;32m      2\u001b[0m     \u001b[0mprint\u001b[0m\u001b[1;33m(\u001b[0m\u001b[0mx\u001b[0m\u001b[1;33m)\u001b[0m\u001b[1;33m\u001b[0m\u001b[1;33m\u001b[0m\u001b[0m\n\u001b[0;32m      3\u001b[0m     \u001b[1;31m#print(X_train)\u001b[0m\u001b[1;33m\u001b[0m\u001b[1;33m\u001b[0m\u001b[1;33m\u001b[0m\u001b[0m\n\u001b[1;32m----> 4\u001b[1;33m     \u001b[0mnew_knn_regress\u001b[0m\u001b[1;33m(\u001b[0m\u001b[0mX_train\u001b[0m\u001b[1;33m,\u001b[0m \u001b[0my_train\u001b[0m\u001b[1;33m,\u001b[0m \u001b[0mx\u001b[0m\u001b[1;33m)\u001b[0m\u001b[1;33m\u001b[0m\u001b[1;33m\u001b[0m\u001b[0m\n\u001b[0m",
      "\u001b[1;32m<ipython-input-70-638c575beaf0>\u001b[0m in \u001b[0;36mnew_knn_regress\u001b[1;34m(X_train, y_train, x, k)\u001b[0m\n\u001b[0;32m     35\u001b[0m \u001b[1;33m\u001b[0m\u001b[0m\n\u001b[0;32m     36\u001b[0m \u001b[1;32mdef\u001b[0m \u001b[0mnew_knn_regress\u001b[0m\u001b[1;33m(\u001b[0m\u001b[0mX_train\u001b[0m\u001b[1;33m,\u001b[0m \u001b[0my_train\u001b[0m\u001b[1;33m,\u001b[0m \u001b[0mx\u001b[0m\u001b[1;33m,\u001b[0m \u001b[0mk\u001b[0m\u001b[1;33m=\u001b[0m\u001b[1;36m3\u001b[0m\u001b[1;33m)\u001b[0m\u001b[1;33m:\u001b[0m\u001b[1;33m\u001b[0m\u001b[1;33m\u001b[0m\u001b[0m\n\u001b[1;32m---> 37\u001b[1;33m     \u001b[0mdist\u001b[0m \u001b[1;33m=\u001b[0m \u001b[0mdistance\u001b[0m\u001b[1;33m.\u001b[0m\u001b[0mcdist\u001b[0m\u001b[1;33m(\u001b[0m\u001b[0mx\u001b[0m\u001b[1;33m,\u001b[0m \u001b[0mX_train\u001b[0m\u001b[1;33m)\u001b[0m\u001b[1;33m\u001b[0m\u001b[1;33m\u001b[0m\u001b[0m\n\u001b[0m\u001b[0;32m     38\u001b[0m     \u001b[0mprint\u001b[0m\u001b[1;33m(\u001b[0m\u001b[0mdist\u001b[0m\u001b[1;33m[\u001b[0m\u001b[0mdist\u001b[0m\u001b[1;33m.\u001b[0m\u001b[0margsort\u001b[0m\u001b[1;33m(\u001b[0m\u001b[1;33m[\u001b[0m\u001b[1;33m-\u001b[0m\u001b[1;36m1\u001b[0m\u001b[1;33m]\u001b[0m\u001b[1;33m)\u001b[0m\u001b[1;33m]\u001b[0m\u001b[1;33m)\u001b[0m\u001b[1;33m\u001b[0m\u001b[1;33m\u001b[0m\u001b[0m\n",
      "\u001b[1;32mc:\\users\\cliff\\appdata\\local\\programs\\python\\python38\\lib\\site-packages\\scipy\\spatial\\distance.py\u001b[0m in \u001b[0;36mcdist\u001b[1;34m(XA, XB, metric, *args, **kwargs)\u001b[0m\n\u001b[0;32m   2740\u001b[0m \u001b[1;33m\u001b[0m\u001b[0m\n\u001b[0;32m   2741\u001b[0m     \u001b[1;32mif\u001b[0m \u001b[0mlen\u001b[0m\u001b[1;33m(\u001b[0m\u001b[0ms\u001b[0m\u001b[1;33m)\u001b[0m \u001b[1;33m!=\u001b[0m \u001b[1;36m2\u001b[0m\u001b[1;33m:\u001b[0m\u001b[1;33m\u001b[0m\u001b[1;33m\u001b[0m\u001b[0m\n\u001b[1;32m-> 2742\u001b[1;33m         \u001b[1;32mraise\u001b[0m \u001b[0mValueError\u001b[0m\u001b[1;33m(\u001b[0m\u001b[1;34m'XA must be a 2-dimensional array.'\u001b[0m\u001b[1;33m)\u001b[0m\u001b[1;33m\u001b[0m\u001b[1;33m\u001b[0m\u001b[0m\n\u001b[0m\u001b[0;32m   2743\u001b[0m     \u001b[1;32mif\u001b[0m \u001b[0mlen\u001b[0m\u001b[1;33m(\u001b[0m\u001b[0msB\u001b[0m\u001b[1;33m)\u001b[0m \u001b[1;33m!=\u001b[0m \u001b[1;36m2\u001b[0m\u001b[1;33m:\u001b[0m\u001b[1;33m\u001b[0m\u001b[1;33m\u001b[0m\u001b[0m\n\u001b[0;32m   2744\u001b[0m         \u001b[1;32mraise\u001b[0m \u001b[0mValueError\u001b[0m\u001b[1;33m(\u001b[0m\u001b[1;34m'XB must be a 2-dimensional array.'\u001b[0m\u001b[1;33m)\u001b[0m\u001b[1;33m\u001b[0m\u001b[1;33m\u001b[0m\u001b[0m\n",
      "\u001b[1;31mValueError\u001b[0m: XA must be a 2-dimensional array."
     ]
    }
   ],
   "source": [
    "for x in tqdm(X_vali):\n",
    "    print(x)\n",
    "    #print(X_train)\n",
    "    new_knn_regress(X_train, y_train, x)"
   ]
  },
  {
   "cell_type": "code",
   "execution_count": null,
   "id": "other-character",
   "metadata": {},
   "outputs": [],
   "source": []
  }
 ],
 "metadata": {
  "kernelspec": {
   "display_name": "Python 3",
   "language": "python",
   "name": "python3"
  },
  "language_info": {
   "codemirror_mode": {
    "name": "ipython",
    "version": 3
   },
   "file_extension": ".py",
   "mimetype": "text/x-python",
   "name": "python",
   "nbconvert_exporter": "python",
   "pygments_lexer": "ipython3",
   "version": "3.8.7"
  }
 },
 "nbformat": 4,
 "nbformat_minor": 5
}
