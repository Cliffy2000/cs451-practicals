{
 "cells": [
  {
   "cell_type": "code",
   "execution_count": 38,
   "id": "decreased-attention",
   "metadata": {},
   "outputs": [],
   "source": [
    "from sklearn.model_selection import train_test_split\n",
    "from sklearn.metrics import roc_auc_score\n",
    "from sklearn.utils import resample\n",
    "import math\n",
    "\n",
    "# my helpers!\n",
    "from shared import (\n",
    "    dataset_local_path,\n",
    "    bootstrap_auc,\n",
    "    simple_boxplot,\n",
    ")\n",
    "\n",
    "# stdlib:\n",
    "from dataclasses import dataclass, field\n",
    "import json, gzip\n",
    "from typing import Dict, List"
   ]
  },
  {
   "cell_type": "code",
   "execution_count": 2,
   "id": "loaded-israel",
   "metadata": {},
   "outputs": [],
   "source": [
    "\n",
    "#%% load up the data\n",
    "# Try 'POETRY'\n",
    "dataset = \"WIKI\"\n",
    "examples: List[str] = []\n",
    "ys: List[bool] = []\n",
    "\n",
    "if dataset == \"WIKI\":\n",
    "    with gzip.open(dataset_local_path(\"lit-wiki-2020.jsonl.gz\"), \"rt\") as fp:\n",
    "        for line in fp:\n",
    "            info = json.loads(line)\n",
    "            # Note: the data contains a whole bunch of extra stuff; we just want numeric features for now.\n",
    "            keep = info[\"body\"]\n",
    "            # whether or not it's poetry is our label.\n",
    "            ys.append(info[\"truth_value\"])\n",
    "            # hold onto this single dictionary.\n",
    "            examples.append(keep)\n",
    "else:\n",
    "    # take only one per book!\n",
    "    by_book = {}\n",
    "    with open(dataset_local_path(\"poetry_id.jsonl\")) as fp:\n",
    "        for line in fp:\n",
    "            info = json.loads(line)\n",
    "            # dictionary keeps this key unique:\n",
    "            by_book[info[\"book\"]] = info\n",
    "    # now extract only one page per book here:\n",
    "    for info in by_book.values():\n",
    "        # Note: the data contains a whole bunch of extra stuff; we just want numeric features for now.\n",
    "        keep = info[\"words\"]\n",
    "        # whether or not it's poetry is our label.\n",
    "        ys.append(info[\"poetry\"])\n",
    "        # hold onto this single dictionary.\n",
    "        examples.append(keep)"
   ]
  },
  {
   "cell_type": "code",
   "execution_count": 39,
   "id": "gothic-finish",
   "metadata": {},
   "outputs": [],
   "source": [
    "#%% Split data:\n",
    "\n",
    "RANDOM_SEED = 1234\n",
    "\n",
    "## split off train/validate (tv) pieces.\n",
    "ex_tv, ex_test, y_tv, y_test = train_test_split(\n",
    "    examples,\n",
    "    ys,\n",
    "    train_size=0.75,\n",
    "    shuffle=True,\n",
    "    random_state=RANDOM_SEED,\n",
    ")\n",
    "# split off train, validate from (tv) pieces.\n",
    "ex_train, ex_vali, y_train, y_vali = train_test_split(\n",
    "    ex_tv, y_tv, train_size=0.66, shuffle=True, random_state=RANDOM_SEED\n",
    ")"
   ]
  },
  {
   "cell_type": "code",
   "execution_count": null,
   "id": "disturbed-hughes",
   "metadata": {},
   "outputs": [],
   "source": []
  },
  {
   "cell_type": "code",
   "execution_count": 12,
   "id": "polish-wayne",
   "metadata": {},
   "outputs": [],
   "source": [
    "from sklearn.feature_extraction.text import CountVectorizer"
   ]
  },
  {
   "cell_type": "code",
   "execution_count": 37,
   "id": "sudden-partner",
   "metadata": {},
   "outputs": [
    {
     "name": "stdout",
     "output_type": "stream",
     "text": [
      "(942, 33176) (486, 33176) (476, 33176)\n"
     ]
    }
   ],
   "source": [
    "word_features = CountVectorizer(\n",
    "    strip_accents = 'unicode',\n",
    "    lowercase = True,\n",
    "    ngram_range = (1,1))\n",
    "\n",
    "text_to_words = word_features.build_analyzer()\n",
    "\n",
    "word_features.fit(ex_train)\n",
    "X_train = word_features.transform(ex_train)\n",
    "X_vali = word_features.transform(ex_vali)\n",
    "X_test = word_features.transform(ex_test)\n",
    "\n",
    "print(X_train.shape, X_vali.shape, X_test.shape)\n",
    "\n",
    "#%% Accumulate results here; to be box-plotted.\n",
    "results: Dict[str, List[float]] = {}"
   ]
  },
  {
   "cell_type": "code",
   "execution_count": 44,
   "id": "shared-enterprise",
   "metadata": {},
   "outputs": [],
   "source": []
  },
  {
   "cell_type": "code",
   "execution_count": 44,
   "id": "wireless-burden",
   "metadata": {},
   "outputs": [],
   "source": [
    "#%% try sklearn MultinomialNB:\n",
    "\n",
    "## SKLearn has it's own Multinomial Naive Bayes,\n",
    "#  and it uses the alpha / additive smoothing to deal with zeros!\n",
    "from sklearn.naive_bayes import MultinomialNB\n",
    "\n",
    "# Try a couple alpha values (what to do with zero-prob words!)\n",
    "# Alpha can really be anything positive!\n",
    "for alpha in [0.1, 1.0, 10.0]:\n",
    "    m = MultinomialNB(alpha=alpha)\n",
    "    m.fit(X_train, y_train)\n",
    "    scores = m.predict_proba(X_vali)[:, 1]\n",
    "    print(\n",
    "        \"Accuracy: {:.3}, AUC: {:.3}\".format(\n",
    "            m.score(X_vali, y_vali), roc_auc_score(y_score=scores, y_true=y_vali)\n",
    "        )\n",
    "    )\n",
    "    print(\"What I called log(beta)={}\".format(m.class_log_prior_[1]))\n",
    "    results[\"MNB(alpha={})\".format(alpha)] = bootstrap_auc(m, X_vali, y_vali)"
   ]
  },
  {
   "cell_type": "code",
   "execution_count": 47,
   "id": "infinite-blocking",
   "metadata": {},
   "outputs": [
    {
     "data": {
      "text/plain": [
       "array([-0.40228546, -1.10500209])"
      ]
     },
     "execution_count": 47,
     "metadata": {},
     "output_type": "execute_result"
    }
   ],
   "source": [
    "m.class_log_prior_"
   ]
  },
  {
   "cell_type": "code",
   "execution_count": 44,
   "id": "interracial-scoop",
   "metadata": {},
   "outputs": [
    {
     "name": "stdout",
     "output_type": "stream",
     "text": [
      "Accuracy: 0.821, AUC: 0.821\n",
      "What I called log(beta)=-1.1050020867668806\n",
      "Accuracy: 0.837, AUC: 0.821\n",
      "What I called log(beta)=-1.1050020867668806\n",
      "Accuracy: 0.712, AUC: 0.638\n",
      "What I called log(beta)=-1.1050020867668806\n",
      "positive-size: 109601\n",
      "rand-size: 366515\n",
      "Linear[0.1] AUC=0.829\n",
      "Linear[0.2] AUC=0.831\n",
      "Linear[0.3] AUC=0.832\n",
      "Linear[0.4] AUC=0.825\n",
      "Linear[0.5] AUC=0.821\n",
      "Linear[0.9] AUC=0.784\n"
     ]
    },
    {
     "data": {
      "image/png": "[encoded data removed]",
      "text/plain": [
       "<Figure size 432x288 with 1 Axes>"
      ]
     },
     "metadata": {
      "needs_background": "light"
     },
     "output_type": "display_data"
    },
    {
     "data": {
      "text/plain": [
       "<module 'matplotlib.pyplot' from 'c:\\\\users\\\\cliff\\\\appdata\\\\local\\\\programs\\\\python\\\\python38\\\\lib\\\\site-packages\\\\matplotlib\\\\pyplot.py'>"
      ]
     },
     "execution_count": 44,
     "metadata": {},
     "output_type": "execute_result"
    }
   ],
   "source": [
    "#%% Showcase linar smoothing:\n",
    "\n",
    "from collections import Counter\n",
    "import typing\n",
    "\n",
    "\n",
    "@dataclass\n",
    "class CountLanguageModel:\n",
    "    \"\"\" The number of times each word has been observed. \"\"\"\n",
    "\n",
    "    counts: typing.Counter[str] = field(default_factory=Counter)\n",
    "    \"\"\" The total number of observed words (any word)\"\"\"\n",
    "    total: int = 0\n",
    "    # Don't need an alpha\n",
    "\n",
    "    def add_example(self, words: List[str]) -> None:\n",
    "        for word in words:\n",
    "            self.counts[word] += 1\n",
    "        self.total += len(words)\n",
    "\n",
    "    def prob(self, word: str) -> float:\n",
    "        return self.counts[word] / self.total\n",
    "\n",
    "\n",
    "# Make one of these for the positive class:\n",
    "is_positive = CountLanguageModel()\n",
    "# Make one of these for ALL documents.\n",
    "is_random = CountLanguageModel()\n",
    "\n",
    "# Train these two model pieces:\n",
    "for y, ex in zip(y_train, ex_train):\n",
    "    words = text_to_words(ex)\n",
    "    # with linear smoothing, everything goes in random (positive OR negative)\n",
    "    is_random.add_example(words)\n",
    "    # but only positive go in positive:\n",
    "    if y:\n",
    "        is_positive.add_example(words)\n",
    "\n",
    "print(\"positive-size: {}\".format(is_positive.total))\n",
    "print(\"rand-size: {}\".format(is_random.total))\n",
    "\n",
    "\n",
    "def score_words(\n",
    "    words: List[str],\n",
    "    linear: float,\n",
    "    positive: CountLanguageModel,\n",
    "    background: CountLanguageModel,\n",
    ") -> float:\n",
    "    score = 0.0\n",
    "    # Compute log-product of word-probabilities:\n",
    "    for word in words:\n",
    "        # prob-yes!\n",
    "        prob_positive = positive.prob(word)\n",
    "        # prob-no!\n",
    "        prob_negative = background.prob(word)\n",
    "        # words that are only in vali/test:\n",
    "        if prob_positive == 0.0 and prob_negative == 0.0:\n",
    "            continue\n",
    "\n",
    "        # mix the positive and negative together (to avoid prob_positive being a zero)\n",
    "        smoothed_positive = (prob_positive * linear) + (prob_negative * (1 - linear))\n",
    "        # multiply up P(yes) / P(no) but logged!\n",
    "        score += math.log(smoothed_positive) - math.log(prob_negative)\n",
    "    return score\n",
    "\n",
    "\n",
    "#\n",
    "# The linear parameter is traditionally a non-zero, non-one probability:\n",
    "#     (0 < linear < 1)\n",
    "for linear in [0.1, 0.2, 0.3, 0.4, 0.5, 0.9]:\n",
    "    scores = []\n",
    "    for ex in ex_vali:\n",
    "        score = score_words(text_to_words(ex), linear, is_positive, is_random)\n",
    "        scores.append(score)\n",
    "\n",
    "    # Note that there's no accuracy because I haven't figured out beta...\n",
    "    print(\n",
    "        \"Linear[{}] AUC={:.3}\".format(\n",
    "            linear, roc_auc_score(y_score=scores, y_true=y_vali)\n",
    "        )\n",
    "    )\n",
    "    # bootstrap AUC: (doing this manually because the helper function doesn't accept scores out of nowhere!)\n",
    "    dist = []\n",
    "    # do the bootstrap:\n",
    "    for trial in range(100):\n",
    "        sample_pred, sample_truth = resample(\n",
    "            scores, y_vali, random_state=trial + RANDOM_SEED\n",
    "        )  # type:ignore\n",
    "        score = roc_auc_score(y_true=sample_truth, y_score=sample_pred)  # type:ignore\n",
    "        dist.append(score)\n",
    "    results[\"Linear[{}]\".format(linear)] = dist\n",
    "\n",
    "\n",
    "#%% Boxplot all AUC results:\n",
    "simple_boxplot(results, ylabel=\"AUC\", save=\"{}-text-AUC.png\".format(dataset))"
   ]
  },
  {
   "cell_type": "code",
   "execution_count": null,
   "id": "measured-michael",
   "metadata": {},
   "outputs": [],
   "source": []
  }
 ],
 "metadata": {
  "kernelspec": {
   "display_name": "Python 3",
   "language": "python",
   "name": "python3"
  },
  "language_info": {
   "codemirror_mode": {
    "name": "ipython",
    "version": 3
   },
   "file_extension": ".py",
   "mimetype": "text/x-python",
   "name": "python",
   "nbconvert_exporter": "python",
   "pygments_lexer": "ipython3",
   "version": "3.8.7"
  }
 },
 "nbformat": 4,
 "nbformat_minor": 5
}
